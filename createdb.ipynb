{
 "cells": [
  {
   "cell_type": "code",
   "execution_count": 1,
   "id": "ece9e549",
   "metadata": {},
   "outputs": [],
   "source": [
    "import sqlite3\n",
    "\n",
    "conn = sqlite3.connect('meetdatabase.db')\n",
    "\n",
    "c = conn.cursor()\n",
    "\n",
    "c.execute('''CREATE TABLE IF NOT EXISTS faces\n",
    "             (encodings BLOB PRIMARY KEY, name TEXT)''')\n",
    "\n",
    "c.execute('''CREATE TABLE IF NOT EXISTS links\n",
    "             (tname TEXT, msg TEXT)''')\n",
    "\n",
    "c.execute('''CREATE TABLE IF NOT EXISTS attendance\n",
    "             (sname TEXT, time TEXT)''')\n",
    "\n",
    "conn.commit()\n",
    "conn.close()"
   ]
  },
  {
   "cell_type": "code",
   "execution_count": null,
   "id": "d047f40a",
   "metadata": {},
   "outputs": [],
   "source": []
  }
 ],
 "metadata": {
  "kernelspec": {
   "display_name": "Python 3 (ipykernel)",
   "language": "python",
   "name": "python3"
  },
  "language_info": {
   "codemirror_mode": {
    "name": "ipython",
    "version": 3
   },
   "file_extension": ".py",
   "mimetype": "text/x-python",
   "name": "python",
   "nbconvert_exporter": "python",
   "pygments_lexer": "ipython3",
   "version": "3.9.13"
  }
 },
 "nbformat": 4,
 "nbformat_minor": 5
}
